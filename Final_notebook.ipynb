{
 "cells": [
  {
   "cell_type": "markdown",
   "id": "6c5935bc",
   "metadata": {},
   "source": [
    "## Importing the necessary libraries"
   ]
  },
  {
   "cell_type": "code",
   "execution_count": 1,
   "id": "d00dc054",
   "metadata": {},
   "outputs": [],
   "source": [
    "import os\n",
    "import re\n",
    "import sys\n",
    "import json\n",
    "import time\n",
    "import html\n",
    "import textwrap\n",
    "from typing import Optional, TypedDict, List, Dict\n",
    "\n",
    "import requests\n",
    "from bs4 import BeautifulSoup, NavigableString\n",
    "from dotenv import load_dotenv\n",
    "\n",
    "# LangChain / LangGraph\n",
    "from langchain_core.messages import SystemMessage, HumanMessage\n",
    "from langchain_core.language_models import BaseChatModel\n",
    "from langgraph.graph import StateGraph, START, END\n",
    "from langchain_groq import ChatGroq"
   ]
  },
  {
   "cell_type": "code",
   "execution_count": 3,
   "id": "f5b29c24",
   "metadata": {},
   "outputs": [],
   "source": [
    "load_dotenv()\n",
    "os.environ[\"GROQ_API_KEY\"]=os.getenv(\"GROQ_API_KEY\")"
   ]
  },
  {
   "cell_type": "markdown",
   "id": "84776eb6",
   "metadata": {},
   "source": [
    "### Using Llama 4 from Groq API inference providers"
   ]
  },
  {
   "cell_type": "code",
   "execution_count": 4,
   "id": "c09732a1",
   "metadata": {},
   "outputs": [
    {
     "data": {
      "text/plain": [
       "ChatGroq(client=<groq.resources.chat.completions.Completions object at 0x0000019CDE551A30>, async_client=<groq.resources.chat.completions.AsyncCompletions object at 0x0000019CDE6951F0>, model_name='meta-llama/llama-4-scout-17b-16e-instruct', temperature=0.6, model_kwargs={}, groq_api_key=SecretStr('**********'))"
      ]
     },
     "execution_count": 4,
     "metadata": {},
     "output_type": "execute_result"
    }
   ],
   "source": [
    "llm = ChatGroq(model=\"meta-llama/llama-4-scout-17b-16e-instruct\", temperature=0.6)\n",
    "llm"
   ]
  },
  {
   "cell_type": "code",
   "execution_count": null,
   "id": "8f12632c",
   "metadata": {},
   "outputs": [],
   "source": [
    "class ArticleState(TypedDict):\n",
    "    url: str                                  # The original URL of the article to be analyzed\n",
    "    article_text: str                         # The full extracted textual content of the article (cleaned HTML)\n",
    "    article_title: str      \n",
    "    core_claims: List[str]                    # List of 3–5 main factual claims extracted from the article\n",
    "    language_tone: str                        ## Short description of the article's language and tone\n",
    "    red_flags: List[str]                      # Potential bias indicators or quality issues in reporting\n",
    "    counter_argument: str                     # Alternative summary of the article from an opposing viewpoint\n",
    "    verification_questions: List[str]         # Specific questions a reader can ask to verify the claims\n",
    "    report_md: str                            # The complete Markdown report generated from all analysis steps\n"
   ]
  },
  {
   "cell_type": "markdown",
   "id": "2535203b",
   "metadata": {},
   "source": [
    "# Creating the graph nodes"
   ]
  },
  {
   "cell_type": "code",
   "execution_count": null,
   "id": "dc97483d",
   "metadata": {},
   "outputs": [],
   "source": [
    "# Node function to fetch the article content from the URL\n",
    "def fetch_article(state: ArticleState):\n",
    "    url = state[\"url\"]\n",
    "    try:\n",
    "        response = requests.get(url)\n",
    "        soup = BeautifulSoup(response.text, \"html.parser\")\n",
    "\n",
    "        # Extract title\n",
    "        title_tag = soup.find(\"title\")\n",
    "        state[\"article_title\"] = title_tag.get_text(strip=True) if title_tag else \"Untitled Article\"\n",
    "\n",
    "        # Remove scripts and styles\n",
    "        for s in soup([\"script\", \"style\"]):\n",
    "            s.extract()\n",
    "\n",
    "        # Extract visible text\n",
    "        paragraphs = [p.get_text(strip=True) for p in soup.find_all(\"p\")]\n",
    "        text = \"\\n\".join(paragraphs)\n",
    "\n",
    "        state[\"article_text\"] = text\n",
    "    except Exception as e:\n",
    "        state[\"article_text\"] = \"\"\n",
    "        state[\"article_title\"] = \"Untitled Article\"\n",
    "        print(f\"Error fetching article: {e}\")\n",
    "    return state\n"
   ]
  },
  {
   "cell_type": "code",
   "execution_count": null,
   "id": "5b591e17",
   "metadata": {},
   "outputs": [],
   "source": [
    "# Node function to extract the main claims from the article\n",
    "def extract_core_claims(state: ArticleState):\n",
    "    prompt = f\"\"\"\n",
    "    You are a critical fact-extraction assistant.\n",
    "\n",
    "    ARTICLE:\n",
    "    {state[\"article_text\"]}\n",
    "\n",
    "    TASK:\n",
    "    Identify the 3-5 main factual claims made in the above article.\n",
    "    Return them as a bullet list.\n",
    "    \"\"\"\n",
    "    resp = llm.invoke(prompt)\n",
    "    state[\"core_claims\"] = resp.content.strip().split(\"\\n\")\n",
    "    return state\n"
   ]
  },
  {
   "cell_type": "code",
   "execution_count": null,
   "id": "675d32df",
   "metadata": {},
   "outputs": [],
   "source": [
    "# Node function to view the arcticle in counter intuitive way\n",
    "def simulate_counter_argument(state: ArticleState):\n",
    "    prompt = f\"\"\"\n",
    "    You are a critical thinking assistant.\n",
    "\n",
    "    ARTICLE:\n",
    "    {state[\"article_text\"]}\n",
    "\n",
    "    TASK:\n",
    "    Briefly summarize the article from a hypothetical opposing viewpoint, highlighting \n",
    "    potential counter-arguments and alternative interpretations.\n",
    "\n",
    "    Keep it concise (3-4 sentences).\n",
    "    \"\"\"\n",
    "    resp = llm.invoke(prompt)\n",
    "    state[\"counter_argument\"] = resp.content.strip()\n",
    "    return state\n"
   ]
  },
  {
   "cell_type": "code",
   "execution_count": null,
   "id": "01e641a5",
   "metadata": {},
   "outputs": [],
   "source": [
    "# Node function to identidy lannguage tone\n",
    "def analyze_language_tone(state: ArticleState):\n",
    "    prompt = f\"\"\"\n",
    "    You are a language tone analysis assistant.\n",
    "\n",
    "    ARTICLE:\n",
    "    {state[\"article_text\"]}\n",
    "\n",
    "    TASK:\n",
    "    Classify the overall language and tone of the article in 1-2 sentences.\n",
    "    Examples: \n",
    "    - Appears neutral and factual\n",
    "    - Uses emotionally charged and persuasive language\n",
    "    - Reads as a strong opinion piece\n",
    "    \"\"\"\n",
    "    resp = llm.invoke(prompt)\n",
    "    state[\"language_tone\"] = resp.content.strip()\n",
    "    return state\n"
   ]
  },
  {
   "cell_type": "code",
   "execution_count": null,
   "id": "b5b5ecee",
   "metadata": {},
   "outputs": [],
   "source": [
    "# Node function to identify potential red flags in the article\n",
    "def detect_red_flags(state: ArticleState):\n",
    "    prompt = f\"\"\"\n",
    "    You are a bias and red-flag detection assistant.\n",
    "\n",
    "    ARTICLE:\n",
    "    {state[\"article_text\"]}\n",
    "\n",
    "    TASK:\n",
    "    Identify potential signs of bias or poor reporting.\n",
    "    Examples include:\n",
    "    - Loaded terminology\n",
    "    - Over-reliance on anonymous sources\n",
    "    - Lack of cited data\n",
    "    - Failure to present opposing viewpoints\n",
    "\n",
    "    Return as a bullet list.\n",
    "    \"\"\"\n",
    "    resp = llm.invoke(prompt)\n",
    "    state[\"red_flags\"] = resp.content.strip().split(\"\\n\")\n",
    "    return state\n"
   ]
  },
  {
   "cell_type": "code",
   "execution_count": null,
   "id": "12cd0a1e",
   "metadata": {},
   "outputs": [],
   "source": [
    "#Node function to generate verification questions\n",
    "def generate_verification_questions(state: ArticleState):\n",
    "    prompt = f\"\"\"\n",
    "    You are a fact verification assistant.\n",
    "\n",
    "    ARTICLE:\n",
    "    {state[\"article_text\"]}\n",
    "\n",
    "    TASK:\n",
    "    Suggest 3-4 insightful, specific questions a reader should ask to independently verify the article's claims.\n",
    "    Return as a bullet list.\n",
    "    \"\"\"\n",
    "    resp = llm.invoke(prompt)\n",
    "    state[\"verification_questions\"] = resp.content.strip().split(\"\\n\")\n",
    "    return state\n"
   ]
  },
  {
   "cell_type": "code",
   "execution_count": null,
   "id": "e71427b6",
   "metadata": {},
   "outputs": [],
   "source": [
    "# Node function to compile the final Markdown report\n",
    "def compile_markdown_report(state: ArticleState):\n",
    "    md = f\"# Critical Analysis Report: {state['article_title']}\\n\\n\"\n",
    "\n",
    "    md += \"## 1. Core Claims\\n\"\n",
    "    md += \"\\n\".join(state[\"core_claims\"]) + \"\\n\\n\"\n",
    "\n",
    "    md += \"## 2. Language & Tone Analysis\\n\"\n",
    "    md += state[\"language_tone\"] + \"\\n\\n\"\n",
    "\n",
    "    md += \"## 3. Potential Red Flags\\n\"\n",
    "    md += \"\\n\".join(state[\"red_flags\"]) + \"\\n\\n\"\n",
    "\n",
    "    md += \"## 4. Verification Questions\\n\"\n",
    "    md += \"\\n\".join(state[\"verification_questions\"]) + \"\\n\"\n",
    "\n",
    "    state[\"report_md\"] = md\n",
    "    return state\n"
   ]
  },
  {
   "cell_type": "code",
   "execution_count": null,
   "id": "b137b5da",
   "metadata": {},
   "outputs": [
    {
     "data": {
      "text/plain": [
       "<langgraph.graph.state.StateGraph at 0x19cdf88ed80>"
      ]
     },
     "execution_count": 27,
     "metadata": {},
     "output_type": "execute_result"
    }
   ],
   "source": [
    "# Creating the whole graph structure and printing it\n",
    "workflow = StateGraph(ArticleState)\n",
    "\n",
    "workflow.add_node(\"fetch_article\", fetch_article)\n",
    "workflow.add_node(\"extract_core_claims\", extract_core_claims)\n",
    "workflow.add_node(\"analyze_language_tone\", analyze_language_tone)\n",
    "workflow.add_node(\"detect_red_flags\", detect_red_flags)\n",
    "workflow.add_node(\"simulate_counter_argument\", simulate_counter_argument)\n",
    "workflow.add_node(\"generate_verification_questions\", generate_verification_questions)\n",
    "workflow.add_node(\"compile_markdown_report\", compile_markdown_report)\n",
    "\n",
    "workflow.set_entry_point(\"fetch_article\")\n",
    "\n",
    "workflow.add_edge(\"fetch_article\", \"extract_core_claims\")\n",
    "workflow.add_edge(\"extract_core_claims\", \"analyze_language_tone\")\n",
    "workflow.add_edge(\"analyze_language_tone\", \"detect_red_flags\")\n",
    "workflow.add_edge(\"detect_red_flags\", \"simulate_counter_argument\")\n",
    "workflow.add_edge(\"simulate_counter_argument\", \"generate_verification_questions\")\n",
    "workflow.add_edge(\"generate_verification_questions\", \"compile_markdown_report\")\n",
    "workflow.add_edge(\"compile_markdown_report\", END)\n"
   ]
  },
  {
   "cell_type": "code",
   "execution_count": 28,
   "id": "a1776e01",
   "metadata": {},
   "outputs": [
    {
     "data": {
      "image/png": "[encoded data removed]",
      "text/plain": [
       "<langgraph.graph.state.CompiledStateGraph object at 0x0000019CDD1A3E00>"
      ]
     },
     "execution_count": 28,
     "metadata": {},
     "output_type": "execute_result"
    }
   ],
   "source": [
    "app = workflow.compile()\n",
    "app"
   ]
  },
  {
   "cell_type": "markdown",
   "id": "5c7e36ec",
   "metadata": {},
   "source": [
    "## Example 1: AI News Article Analysis"
   ]
  },
  {
   "cell_type": "code",
   "execution_count": null,
   "id": "3fbe839b",
   "metadata": {},
   "outputs": [
    {
     "name": "stdout",
     "output_type": "stream",
     "text": [
      "# Critical Analysis Report: GPT-5’s Rough Takeoff, AI Video Blockbusters, India's Homegrown LLMs, Synthetic Data Generation\n",
      "\n",
      "## 1. Core Claims\n",
      "Here are the 3-5 main factual claims made in the article:\n",
      "\n",
      "* **Universities are transforming to leverage AI**: The University of Exeter's Faculty of Environment, Science and Economy is a forward-looking example, with Computer Science sitting alongside Environmental Science and the Business School, creating opportunities for collaboration across fields.\n",
      "* **OpenAI launched GPT-5, a new large language model**: GPT-5 is a family of systems, including GPT-5, GPT-5 Mini, GPT-5 Nano, and GPT-5 Pro, that integrate non-reasoning and variable-reasoning models with a router that switches between them automatically, but faced rollout issues and limitations.\n",
      "* **India is developing native large language models**: India is funding startups and marshaling processing resources to build efficient models that can process many of the 22 officially recognized languages spoken in India, with companies like CoRover, Sarvam AI, and Soket AI Labs working on indigenous model development.\n",
      "* **AI-generated video clips are being used in viral videos, ad campaigns, and Netflix shows**: Studios like The Dor Brothers and Genre.ai are using AI-generated clips to produce social-media hits and commercials, while Netflix has generated a scene for one of its streaming productions, The Eternaut.\n",
      "* **Researchers have built a pipeline to fine-tune large language models for software engineering**: A team from Stanford, Princeton, and Alibaba introduced SWE-smith, a method that generates realistic examples of bug fixes and other code alterations, which can produce data at scale to potentially enable major developers to improve their AI-assisted coding models.\n",
      "\n",
      "## 2. Language & Tone Analysis\n",
      "The overall language and tone of the article appears to be informative, neutral, and objective, presenting factual information about AI developments and advancements in a straightforward and matter-of-fact manner. The tone is also slightly enthusiastic and optimistic, particularly when discussing the potential benefits and positive applications of AI in various fields.\n",
      "\n",
      "## 3. Potential Red Flags\n",
      "Here are the potential signs of bias or poor reporting identified in the article:\n",
      "\n",
      "* **Loaded terminology**: \n",
      "  * The use of \"pragmatic and enthusiastic embrace of AI\" to describe the University of Exeter's leadership might be seen as loaded, as it implies a positive connotation.\n",
      "  * The term \"forward-looking\" to describe the faculty's organization might also be considered loaded.\n",
      "* **Over-reliance on unnamed or anonymous sources**: \n",
      "  * The article mentions \"several Indian AI leaders\" who are inspired by DeepSeek, but does not provide specific names or affiliations.\n",
      "* **Lack of cited data**: \n",
      "  * The claim that Exeter hosts \"5 of the world's top 21 most influential climate scientists\" is made without a clear source or reference.\n",
      "  * The statement that GPT-5 \"topped some benchmarks\" is made without specific data or citations.\n",
      "* **Failure to present opposing viewpoints**: \n",
      "  * The article discusses the potential benefits of AI in education and research, but does not present any opposing viewpoints or potential drawbacks.\n",
      "  * The article mentions that \"creative people will find ways to use the technology to make products that audiences like,\" but does not discuss potential concerns about job displacement or the impact on traditional filmmaking industries.\n",
      "* **Biased or promotional tone**: \n",
      "  * The article has a promotional tone, particularly in the sections discussing specific companies or products (e.g., Streamlit and Snowflake's Cortex AI).\n",
      "  * The use of phrases like \"Keep building\" and \"We're thinking\" might be seen as biased or promotional.\n",
      "\n",
      "## 4. Verification Questions\n",
      "Here are 3-4 insightful, specific questions a reader can ask to independently verify the article's claims:\n",
      "\n",
      "* What are the specific metrics and benchmarks used to evaluate the performance of GPT-5, and how do they compare to previous models like GPT-4? Are the improvements significant, and what are the practical implications of these improvements?\n",
      "* How does the University of Exeter's Faculty of Environment, Science and Economy plan to measure the effectiveness of integrating AI into their research and teaching practices, and what are the expected outcomes and timelines for these initiatives?\n",
      "* What are the technical details of the SWE-smith pipeline developed by researchers at Stanford, Princeton, and Alibaba, and how does it address the challenges of building a dataset for fine-tuning large language models for software engineering tasks?\n",
      "* Can the claims about the capabilities and applications of AI-generated video clips, such as those produced by The Dor Brothers and Genre.ai, be verified through independent testing and evaluation, and what are the potential limitations and risks associated with using these technologies in commercial and creative contexts?\n",
      "\n"
     ]
    }
   ],
   "source": [
    "\n",
    "app = workflow.compile()\n",
    "\n",
    "# example\n",
    "input_state = {\n",
    "    \"url\": \"https://info.deeplearning.ai/gpt-5s-rough-takeoff-ai-video-blockbusters-indias-homegrown-llms-synthetic-data-generation-1?ecid=ACsprvvOMBqo965Cqrim33UN9b1VIN329UHxNTaaNlXE6hi28qO1jPiCxEK_MwwiPh_2WbeO_vfP\"  # Replace with your article URL\n",
    "}\n",
    "\n",
    "final_state = app.invoke(input_state)\n",
    "\n",
    "\n",
    "print(final_state[\"report_md\"])\n"
   ]
  },
  {
   "cell_type": "markdown",
   "id": "9d865c97",
   "metadata": {},
   "source": [
    "## Example 2: Political News Article Analysis"
   ]
  },
  {
   "cell_type": "code",
   "execution_count": null,
   "id": "98494630",
   "metadata": {},
   "outputs": [
    {
     "name": "stdout",
     "output_type": "stream",
     "text": [
      "# Critical Analysis Report: Alaska: US warns of additional tariffs on India if Trump-Putin peace talks fail\n",
      "\n",
      "## 1. Core Claims\n",
      "Here are the 3-5 main factual claims made in the article:\n",
      "\n",
      "* The US Treasury Secretary Scott Bessent has warned that Washington could increase secondary tariffs on India, depending on the outcome of President Donald Trump's meeting with Russian counterpart Vladimir Putin.\n",
      "* The US has already imposed a 25% penalty on India, in addition to 25% tariffs, for buying oil and weapons from Russia, which has strained India-US relations and disrupted ongoing trade talks.\n",
      "* India's imports of Russian oil have increased significantly, making up 35-40% of its oil imports in 2024, up from 3% in 2021, and Delhi has defended its purchases by citing the need to buy cheap crude to protect its citizens from rising costs.\n",
      "* A new 50% tariff rate on India is set to come into effect on August 27, which is expected to severely hamper India's exports-focused industries like textiles and jewelry.\n",
      "* Trade negotiations between India and the US are set to renew on August 25, with US negotiators expected to arrive in India, but experts say India's refusal to reduce duties on agriculture and dairy products has been a major obstacle in the talks.\n",
      "\n",
      "## 2. Language & Tone Analysis\n",
      "The article appears to be written in a neutral and factual tone, presenting a balanced view of the situation with quotes from US Treasury Secretary Scott Bessent and information about the trade tensions between the US and India. However, the language used also has a slightly critical and cautionary undertone, hinting at the potential consequences of the trade disputes and the strained relationships between the countries involved.\n",
      "\n",
      "## 3. Potential Red Flags\n",
      "Here are the potential signs of bias or poor reporting identified in the article:\n",
      "\n",
      "* Loaded terminology:\n",
      "\t+ \"Tariff abuser\" (used to describe India, implying that India is somehow misusing or taking advantage of tariffs)\n",
      "\t+ \"Recalcitrant\" (used to describe India, implying that India is being stubborn or uncooperative)\n",
      "* Leading quotes:\n",
      "\t+ The quote from Scott Bessent, \"We've put secondary tariffs on Indians for buying Russian oil. And I could see, If things don't go well, then sanctions or secondary tariffs could go up,\" is presented in a way that implies a threat or warning, rather than a neutral statement of fact.\n",
      "* Lack of cited data:\n",
      "\t+ The article mentions that India's increased imports of Russian oil have \"strained\" India-US relations, but does not provide specific data on the impact of these imports on the relationship.\n",
      "\t+ The article mentions that Trump's tariffs could \"drag India's growth down by as much as half a percent\", but does not provide a source or data to support this claim.\n",
      "* Failure to present opposing viewpoints:\n",
      "\t+ The article presents the US perspective on India's purchases of Russian oil, but does not provide a detailed response from India or a neutral expert analysis of the situation.\n",
      "\t+ The article mentions that India has defended its purchases of Russian oil, but only briefly summarizes India's position without exploring it further.\n",
      "* Emotive language:\n",
      "\t+ The article uses phrases such as \"strained India-US relations\" and \"severe consequences\" to create a sense of tension or urgency, rather than presenting a neutral analysis of the situation.\n",
      "* Selective focus:\n",
      "\t+ The article focuses primarily on the US perspective and the potential consequences for India, without providing a more balanced analysis of the situation.\n",
      "\n",
      "## 4. Verification Questions\n",
      "Here are 3-4 insightful, specific questions a reader should ask to independently verify the article's claims:\n",
      "\n",
      "* What are the specific details of the 25% penalty imposed by Trump on India for buying oil and weapons from Russia, and how does it relate to the secondary tariffs that US Treasury Secretary Scott Bessent mentioned?\n",
      "* Can I verify the claim that Russian oil made up 35% to 40% of India's oil imports in 2024, and how does this compare to previous years, such as 2021, as mentioned in the article?\n",
      "* What are the exact trade negotiations underway between Delhi and Washington, and what specific issues, such as tariffs on agriculture and dairy products, are causing tensions in the talks?\n",
      "* Are there any official statements or documents from the US Treasury Department or the Trump administration that support Bessent's claims about potential increases to secondary tariffs on India, and what are the potential implications for India-US trade relations?\n",
      "\n"
     ]
    }
   ],
   "source": [
    "\n",
    "app = workflow.compile()\n",
    "\n",
    "# Example URL\n",
    "input_state = {\n",
    "    \"url\": \"https://www.bbc.com/news/articles/c776zrmy5jjo\"  # Replace with your article URL\n",
    "}\n",
    "\n",
    "final_state = app.invoke(input_state)\n",
    "\n",
    "# Display the Markdown report\n",
    "print(final_state[\"report_md\"])\n"
   ]
  },
  {
   "cell_type": "code",
   "execution_count": null,
   "id": "d63b8f3b",
   "metadata": {},
   "outputs": [],
   "source": []
  }
 ],
 "metadata": {
  "kernelspec": {
   "display_name": "AgenticLanggraph (3.12.4)",
   "language": "python",
   "name": "python3"
  },
  "language_info": {
   "codemirror_mode": {
    "name": "ipython",
    "version": 3
   },
   "file_extension": ".py",
   "mimetype": "text/x-python",
   "name": "python",
   "nbconvert_exporter": "python",
   "pygments_lexer": "ipython3",
   "version": "3.12.4"
  }
 },
 "nbformat": 4,
 "nbformat_minor": 5
}
